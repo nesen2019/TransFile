{
 "cells": [
  {
   "cell_type": "markdown",
   "metadata": {},
   "source": [
    "# **菊安酱与菜菜的Python机器学习可视化**"
   ]
  },
  {
   "cell_type": "markdown",
   "metadata": {},
   "source": [
    "### <font color='bule'>第四期  分布图：22密度图 & 23直方密度曲线图"
   ]
  },
  {
   "cell_type": "markdown",
   "metadata": {},
   "source": [
    "**注意：本篇中可能遇见无法在matpotlib和seaborn中显示中文或者负号的问题**  \n",
    "如果你遇见了，请参考链接，可永久解决中文和负号问题：https://www.jianshu.com/p/914b5f4ce6bf  \n",
    "或者你也可以在每次需要负号和中文的时候执行下面的代码来避免中文或负号显示不出来："
   ]
  },
  {
   "cell_type": "code",
   "execution_count": 1,
   "metadata": {},
   "outputs": [],
   "source": [
    "# import matplotlib.pyplot as plt\n",
    "\n",
    "# plt.rcParams['font.sans-serif']=['Simhei'] #显示中文\n",
    "# plt.rcParams['axes.unicode_minus']=False   #显示负号"
   ]
  },
  {
   "cell_type": "markdown",
   "metadata": {},
   "source": [
    "### <font color=bule> 22/50 密度图（Density Plot）"
   ]
  },
  {
   "cell_type": "markdown",
   "metadata": {},
   "source": [
    "密度图，又称为密度曲线图。在分布图中，密度图是一种常用的工具。对于连续变量来说，如果想要把它的分布状况进行可视化，那密度图就是一个很好的选择。"
   ]
  },
  {
   "cell_type": "markdown",
   "metadata": {},
   "source": [
    "<img src='http://pictes.oss-cn-beijing.aliyuncs.com/microclass-virtualisation/week4%20Distribution/%E5%AF%86%E5%BA%A6%E5%9B%BE.png' width=500>"
   ]
  },
  {
   "cell_type": "markdown",
   "metadata": {},
   "source": [
    "这幅图的主要目的就是反映城市里程如何随着气缸数量的变化而变化"
   ]
  },
  {
   "cell_type": "markdown",
   "metadata": {},
   "source": [
    "横坐标：城市里程   \n",
    "纵坐标：概率密度   \n",
    "图例：不同种类气缸数量   "
   ]
  },
  {
   "cell_type": "markdown",
   "metadata": {},
   "source": [
    "### 1. 导入需要的绘图库"
   ]
  },
  {
   "cell_type": "code",
   "execution_count": 2,
   "metadata": {},
   "outputs": [],
   "source": [
    "import pandas as pd\n",
    "import numpy as np\n",
    "import seaborn as sns\n",
    "import matplotlib.pyplot as plt\n",
    "%matplotlib inline\n",
    "#如果用jupyter notebook则需要这行代码让你的图像显示，如果是jupyterlab则不需要\n",
    "\n",
    "plt.rcParams['font.sans-serif']=['Simhei'] #显示中文\n",
    "plt.rcParams['axes.unicode_minus']=False   #显示负号"
   ]
  },
  {
   "cell_type": "markdown",
   "metadata": {},
   "source": [
    "### 2.认识绘制密度图的函数"
   ]
  },
  {
   "cell_type": "markdown",
   "metadata": {},
   "source": [
    "#### <font color='blue'>密度图是直方图的一种变形\n",
    "下面我们一起来看一下直方图和密度图的对比。    \n",
    "（下面这两个图，用的是同一个数据）"
   ]
  },
  {
   "cell_type": "markdown",
   "metadata": {},
   "source": [
    "<img src = 'http://pictes.oss-cn-beijing.aliyuncs.com/microclass-virtualisation/week4%20Distribution/%E7%9B%B4%E6%96%B9%E5%9B%BEvs%E5%AF%86%E5%BA%A6%E5%9B%BE.png'>"
   ]
  },
  {
   "cell_type": "markdown",
   "metadata": {},
   "source": [
    "#### 直方图 vs 密度图\n",
    "> 1. 直方图表示的是在不同取值区间里分别有多少个值，而密度图表示的是在不同取值区间里的概率密度\n",
    "> 2. 密度图曲线下的总面积为1（可以用积分证明）\n",
    "> 3. 大多数密度图使用的是核密度估计，核密度的计算就是一个比较复杂的数学过程了\n",
    "> 4. 通俗理解：密度图中的纵坐标用于不同类别之间的相对比较的值"
   ]
  },
  {
   "cell_type": "markdown",
   "metadata": {},
   "source": [
    "如果你还是比较困惑的话，可以看下面的例子:   \n",
    "假设我们有5个样本,每个样本点在下图中显示为X轴上的小黑色垂直线    \n",
    "各个内核（这里用的是高斯核）显示在每个点上方，用红色虚线绘制    \n",
    "通过对各个点的高斯核求和，形成了蓝色曲线，这一条曲线就是我们需要的密度曲线了。   "
   ]
  },
  {
   "cell_type": "markdown",
   "metadata": {},
   "source": [
    "<img src='http://pictes.oss-cn-beijing.aliyuncs.com/microclass-virtualisation/week4%20Distribution/%E5%AF%86%E5%BA%A6%E8%AE%B2%E8%A7%A3%E5%AE%9E%E4%BE%8B.png' width=300>"
   ]
  },
  {
   "cell_type": "markdown",
   "metadata": {},
   "source": [
    "<img src='http://pictes.oss-cn-beijing.aliyuncs.com/microclass-virtualisation/week4%20Distribution/%E5%AF%86%E5%BA%A6%E8%AE%B2%E8%A7%A3%E5%9B%BE%E5%BD%A2.png' width=300>"
   ]
  },
  {
   "cell_type": "markdown",
   "metadata": {},
   "source": [
    ">在密度图中，x轴是变量的值，就像在直方图中一样，但是y轴的值表示的是什么呢？密度图中的y轴表示的核密度估计的概率密度函数。但是我们需要注意的是这里是**概率密度**而不是概率。\n",
    "\n",
    ">概率密度与概率的差异就是，概率密度指的是x轴上每单位的概率。如果想要转换为实际概率的话，需要在x轴上找到特定区间的曲线下面积。这些听起来可能会非常的困惑，尤其是遇到y轴的取值大于1的时候，所以我们需要明白概率密度不是概率，而我们的**y轴是可以取到大于1**的值。    \n",
    "\n",
    ">所以通常情况下，我会将密度图上的y轴当做仅仅是用于比较不同类别之间的相对值。"
   ]
  },
  {
   "cell_type": "markdown",
   "metadata": {},
   "source": [
    "**sns.kdeplot()**\n",
    "> 函数功能\n",
    ">> 拟合并绘制单变量或双变量核密度估计值  \n",
    "\n",
    "> 重要参数   \n",
    ">> data：数据集，可以只输入一个，也可以输入两个   \n",
    ">> shade：在密度曲线下方加阴影（如果数据是双变量时，填充轮廓）   \n",
    ">> vertical：控制密度轴向   \n",
    ">> bw：类似于直方图中的binwidth，用于确定核大小    \n",
    ">> kernel：核函数(双变量KDE只能使用高斯核)\n",
    "\n",
    ">>> 核函数种类说明：   \n",
    ">>> gau:gaussian高斯核（常用）   \n",
    ">>> cos:cosine余弦     \n",
    ">>> biw:biweight 四次   \n",
    ">>> epa:Epanechnikov 抛物线   \n",
    ">>> tri:triangle三角   \n",
    ">>> triw:triweight 三次   "
   ]
  },
  {
   "cell_type": "markdown",
   "metadata": {},
   "source": [
    "参数说明：https://seaborn.pydata.org/generated/seaborn.kdeplot.html"
   ]
  },
  {
   "cell_type": "markdown",
   "metadata": {},
   "source": [
    "关于核种类：https://en.wikipedia.org/wiki/Kernel_%28statistics%29"
   ]
  },
  {
   "cell_type": "markdown",
   "metadata": {},
   "source": [
    "#### <font color='blue'>绘制简单的密度图"
   ]
  },
  {
   "cell_type": "code",
   "execution_count": 3,
   "metadata": {},
   "outputs": [],
   "source": [
    "#构造数据,满足正态分布的1000个数\n",
    "data = np.random.randn(1000)"
   ]
  },
  {
   "cell_type": "code",
   "execution_count": 4,
   "metadata": {},
   "outputs": [
    {
     "data": {
      "text/plain": [
       "array([ 1.00121753e+00,  2.46978755e-01,  1.45762830e-01, -6.48311413e-03,\n",
       "        2.43309084e-01, -1.86245126e-01, -9.99292238e-01, -4.41215059e-01,\n",
       "       -3.74503726e-01,  9.70189692e-01,  1.82519942e-01, -3.90011963e-01,\n",
       "       -5.77650591e-01,  1.58879558e+00,  1.20649245e+00,  1.43813580e+00,\n",
       "       -1.62987731e+00, -7.58684727e-01,  6.29031765e-01,  1.10549629e+00,\n",
       "       -2.21057119e+00,  5.08402098e-02,  8.59503065e-01, -6.49628378e-01,\n",
       "        3.26042923e-01, -1.25609340e+00,  9.64184455e-02,  1.55703379e+00,\n",
       "       -2.56744736e+00,  1.30580974e+00,  4.30342398e-01, -3.17609816e-01,\n",
       "       -5.86651616e-01, -1.98353128e+00, -7.85327163e-02,  1.15163020e-01,\n",
       "        1.84668473e+00,  3.30388589e-01,  1.05416575e+00, -1.11169091e-01,\n",
       "        1.68680180e-02,  8.52214852e-01,  1.18959366e+00,  1.72353529e-03,\n",
       "        3.30002469e-01,  9.16133568e-01,  5.50890059e-01, -7.25288810e-01,\n",
       "        1.57557638e-01,  8.52574575e-01, -8.80715638e-01,  3.40427801e-02,\n",
       "        1.71401835e-01, -2.80456485e+00, -4.68321849e-01,  8.34185909e-02,\n",
       "       -1.96687702e-01,  1.85917760e-01, -1.63443409e-01,  8.11216358e-01,\n",
       "        3.73992948e-01,  1.51499363e+00,  4.39109165e-02,  1.54901330e+00,\n",
       "       -1.65758197e+00,  1.07173396e+00, -1.91417307e+00, -1.45884674e-01,\n",
       "        6.49710272e-02, -4.38778158e-01, -7.11589371e-01,  1.52745724e+00,\n",
       "       -5.31475667e-01, -1.36045618e-01,  1.00213420e+00,  1.27520418e-01,\n",
       "        8.81887207e-01,  1.27941844e+00,  1.92018667e-01,  8.71805836e-02,\n",
       "       -8.96782672e-01,  9.53046670e-01,  8.65999085e-01,  1.11996380e+00,\n",
       "        2.45191005e+00,  8.70055571e-01,  6.47386274e-01, -3.11231618e-01,\n",
       "       -1.90375466e-01, -1.00899707e+00, -2.09327916e-01, -8.90764395e-02,\n",
       "       -6.29269273e-01, -5.37700351e-01, -4.46967460e-01,  1.03537111e+00,\n",
       "       -4.52097455e-02,  5.77513222e-01,  4.38131728e-01,  1.02771706e+00,\n",
       "        5.91286973e-03, -7.49243426e-01, -1.68194306e+00,  3.90314210e-01,\n",
       "        5.49050184e-01, -1.03731252e-01, -1.02375605e+00, -2.08248178e+00,\n",
       "       -1.38011794e+00, -3.19366960e-01, -9.29639719e-01, -4.93109487e-02,\n",
       "       -3.90414786e-01, -2.38989781e-01, -5.25454583e-01, -1.08657996e+00,\n",
       "       -1.03162474e-01,  6.17283614e-02,  4.32129672e-02,  7.60031381e-01,\n",
       "        1.25348028e+00, -4.81081083e-01,  1.40575144e+00,  1.21317904e+00,\n",
       "        4.21567051e-01, -5.88018557e-01,  1.83022935e-01,  2.20114830e+00,\n",
       "        3.52450072e-02, -1.27592246e+00,  9.98209129e-01, -8.30804940e-02,\n",
       "       -4.81823345e-02,  1.89635142e-01,  8.24820973e-01,  5.86315585e-01,\n",
       "       -8.42210377e-01,  1.22311891e+00, -1.27189755e-01,  5.07034307e-01,\n",
       "       -1.57301816e+00, -1.24582851e-01,  4.85859860e-01, -3.23135970e-01,\n",
       "       -1.71105801e+00,  2.15866247e+00,  3.03438825e-02, -2.99670260e-01,\n",
       "        6.36144580e-01, -1.89831823e+00,  2.61718849e-01,  2.27803725e+00,\n",
       "       -9.32057711e-01, -5.19669953e-01,  3.09282681e-01,  3.93978500e-01,\n",
       "        1.20706248e+00,  1.29180248e+00,  9.19759736e-01,  8.72115900e-02,\n",
       "       -5.14116596e-01, -7.27649423e-02,  5.42559203e-01,  1.94083830e+00,\n",
       "       -9.26606588e-02,  5.61667726e-02, -9.41976790e-01, -1.37274999e-02,\n",
       "       -6.99145321e-01, -8.22418084e-01,  1.07924994e+00, -2.73958345e-01,\n",
       "        8.94926784e-01, -6.49511298e-01, -5.13056818e-01, -8.60253469e-01,\n",
       "       -8.11862451e-01,  3.18200181e-02, -8.82632359e-01, -8.75834485e-01,\n",
       "       -4.03735785e-02,  7.60818814e-01, -9.71253484e-01, -2.06728301e-01,\n",
       "        7.66481023e-01,  1.57633218e+00,  1.25965265e+00, -6.32676414e-01,\n",
       "        1.75034256e+00, -8.24472547e-01,  1.10127285e+00, -5.38801156e-01,\n",
       "        2.89686020e-01,  1.05737607e-01,  1.88998508e-01,  1.21984738e+00,\n",
       "        3.65056905e-01,  1.13654779e+00,  8.42714510e-01, -1.42853592e+00,\n",
       "       -7.14824577e-01,  1.84373000e+00,  2.38709412e-01,  9.27078182e-01,\n",
       "       -1.96794529e-01, -2.76456830e+00,  6.41324719e-01,  5.86382904e-01,\n",
       "        1.69420903e+00,  2.87602470e-01,  1.22249796e+00,  8.91841176e-02,\n",
       "        3.36763139e-01,  8.79386328e-01, -8.33905615e-01,  9.83371409e-01,\n",
       "       -7.22114633e-01,  4.87005821e-01, -8.62076890e-02,  2.76010301e+00,\n",
       "        1.06420707e-01, -1.16649019e+00,  3.87132382e-01,  4.97351809e-01,\n",
       "       -1.43535957e+00, -6.93418915e-01, -3.27695271e-01, -1.31599666e+00,\n",
       "       -4.25681744e-01, -9.49096900e-01,  1.49223494e+00, -2.52206958e-01,\n",
       "        8.87213454e-01, -3.83663931e-01, -5.95919823e-01, -1.07000078e+00,\n",
       "       -1.54249822e-01,  1.90690233e+00, -1.45393854e+00,  4.26804727e-01,\n",
       "       -1.09407376e+00,  5.44590414e-01,  2.01631805e-01,  5.80075286e-01,\n",
       "        1.00031441e+00,  8.55205935e-01, -2.96646448e-01,  1.17872207e+00,\n",
       "       -1.60426831e+00,  2.54951241e-01,  1.01646960e-01, -2.02076540e+00,\n",
       "        8.74142020e-01, -1.18039721e+00,  8.05281887e-01,  1.44153880e+00,\n",
       "        1.24456397e-01, -6.83443474e-01, -9.45936922e-01,  2.06262116e+00,\n",
       "       -5.44388417e-01, -9.56742499e-01, -2.36852115e-01,  2.39010375e-01,\n",
       "        3.18251715e-01, -4.98464604e-02,  5.67167045e-02, -1.32680021e+00,\n",
       "       -3.13840842e-01,  7.70159012e-01, -4.32608519e-01,  1.54248735e+00,\n",
       "       -2.29706218e+00,  6.61911168e-01, -1.16709700e+00, -2.56228926e-01,\n",
       "       -8.02870699e-02, -1.03432747e+00, -6.33343301e-01,  1.35955348e+00,\n",
       "        5.51813293e-01,  2.45661476e+00,  3.45223600e-01, -7.66179226e-02,\n",
       "        1.24155953e+00,  7.13304646e-02,  7.86868575e-01,  8.43691697e-01,\n",
       "        1.33716377e-01, -7.46728750e-01,  1.01081760e+00, -1.69925182e+00,\n",
       "       -9.25176489e-01, -5.54852110e-01, -5.37133624e-01,  8.46585398e-01,\n",
       "        9.51928916e-01, -1.20855955e+00,  1.60988452e-01, -5.95035429e-01,\n",
       "        2.72403299e-01, -1.97855763e+00, -7.21774940e-01,  1.86912257e+00,\n",
       "        1.72688332e-01,  2.43607108e-01, -2.71680808e-01,  7.71544078e-01,\n",
       "       -2.42434835e-01, -1.46147919e+00, -1.74171095e+00, -5.03165591e-01,\n",
       "        5.03113972e-01,  1.24802542e-01, -1.74770147e+00, -9.54322355e-01,\n",
       "        2.25427945e+00, -1.70064033e-01, -3.73868922e-01, -1.14482761e+00,\n",
       "        2.70694102e+00, -2.36672883e-01, -3.72574176e-01,  2.23560942e+00,\n",
       "        3.51508022e-01,  1.10411719e+00, -1.39413665e-01,  7.54980027e-01,\n",
       "       -3.88719035e-01, -1.05952688e+00,  3.21922271e-01, -8.87463014e-01,\n",
       "       -7.59491516e-01, -3.46065420e-01,  4.75663183e-02, -1.48290750e+00,\n",
       "       -6.12958001e-01, -2.81755597e-01,  2.09665029e-01, -4.90378891e-01,\n",
       "       -1.48623823e+00,  1.03331051e+00,  1.60232756e-01, -1.49610152e+00,\n",
       "        6.61990754e-02, -6.50955610e-01,  1.31450884e+00, -4.43489090e-01,\n",
       "       -1.39168741e-02, -6.14124603e-01, -1.36690855e-01, -1.50257052e+00,\n",
       "       -1.09277106e+00, -1.73434368e-01,  7.37525848e-01,  2.31944074e-01,\n",
       "       -3.25610457e-01,  6.46306688e-02, -1.24875293e+00, -9.19235624e-01,\n",
       "        1.79979990e-01, -6.49707850e-02, -1.90986582e+00,  1.50380580e+00,\n",
       "        8.46248042e-01, -1.34985013e+00, -2.60768511e+00, -2.29370798e+00,\n",
       "        2.96171826e-01, -9.95603127e-01,  2.14245174e-01, -4.53527166e-01,\n",
       "        4.26229539e-01,  2.57007225e-01,  5.83328276e-01, -9.24777363e-01,\n",
       "       -1.36193513e+00,  9.62508603e-02,  1.31905948e-01, -2.24941707e+00,\n",
       "        2.94429367e+00, -1.59303729e-01,  5.51836045e-01, -2.15345818e-02,\n",
       "        7.97274185e-01, -3.82226755e-02, -5.50572922e-01, -9.42206964e-01,\n",
       "       -1.03258512e+00, -4.88598032e-01, -8.93792459e-01,  7.81395810e-01,\n",
       "        2.88696330e-01,  1.07588927e+00, -1.32689157e+00, -1.40967004e+00,\n",
       "        9.54712770e-01,  5.74949134e-01, -8.62633343e-01,  3.73132088e-01,\n",
       "       -3.71490668e-01,  1.65198242e-01,  9.78225032e-01,  7.44033708e-01,\n",
       "       -1.28447504e+00, -2.82025380e-01, -1.18716924e+00, -1.27627193e+00,\n",
       "        1.57083346e+00, -2.11515373e-01,  8.24029417e-01,  2.35965001e-01,\n",
       "        1.18296675e+00, -3.37621282e-01, -4.02194737e-01, -5.79322483e-02,\n",
       "        1.47094532e+00,  1.30325220e+00,  1.29617896e+00, -3.25159086e-01,\n",
       "       -1.26838597e+00,  7.58149850e-01,  3.44540298e-01,  8.43775012e-01,\n",
       "       -1.31622509e+00,  1.57762161e-01,  6.84709377e-01, -5.28769007e-02,\n",
       "        1.00026031e+00, -4.13126141e-01,  6.13560189e-01, -6.10659642e-01,\n",
       "       -1.28955857e+00, -2.13097941e-01, -5.59556055e-01,  4.58040060e-01,\n",
       "        7.82871395e-01,  1.78026439e-01,  2.22327230e+00,  3.93249299e-01,\n",
       "        1.91000757e+00, -1.13830163e+00, -4.56487760e-01, -1.17338367e+00,\n",
       "        1.16028112e+00,  1.01533596e-01,  6.66119828e-01, -2.36636642e-01,\n",
       "       -1.44081785e+00, -9.00987562e-01, -1.75953525e-01, -1.38592145e-01,\n",
       "        7.53631935e-01, -1.27845764e+00, -7.08172954e-01,  7.52045182e-01,\n",
       "        3.03494632e-01, -1.39062205e+00, -5.85741657e-01, -7.01185050e-02,\n",
       "       -6.67774204e-02, -1.60894310e+00, -2.88964302e-01,  5.75844180e-01,\n",
       "        3.55350089e-01, -2.04352194e-01,  1.37708468e+00,  3.05998065e-01,\n",
       "       -1.61386276e+00,  6.18044555e-01,  1.21904997e+00, -1.43694040e+00,\n",
       "       -7.54391138e-01, -1.57947044e-01, -1.53595439e+00,  1.50964376e+00,\n",
       "        9.90931332e-01,  1.19281933e+00, -2.05119129e+00, -3.41727894e-01,\n",
       "        1.13068451e+00, -2.98820760e-01, -8.77637586e-01,  1.23834187e+00,\n",
       "       -8.38475574e-02,  1.50968300e+00,  7.35401698e-01, -2.07528512e+00,\n",
       "       -4.21811109e-01,  2.29519807e+00, -1.26127137e-01,  9.92213045e-01,\n",
       "       -5.68309949e-01, -5.09503952e-01,  1.27204901e+00, -5.03882321e-01,\n",
       "       -1.30022478e-01,  1.00387281e+00, -7.94346746e-02,  1.42700071e+00,\n",
       "       -1.03740397e-01,  1.15673926e-01,  8.69570672e-01,  1.18800905e-04,\n",
       "       -1.99276901e+00,  6.55397310e-01,  1.12389513e-01,  8.06666701e-01,\n",
       "        1.28809725e-01,  7.80701819e-01,  1.49182330e-01, -1.29720198e+00,\n",
       "       -7.25292913e-02, -5.19926876e-01,  1.20959695e+00,  2.88379665e-02,\n",
       "        5.33579087e-01, -1.58617921e+00, -2.11604957e+00, -1.23782114e+00,\n",
       "        5.95419783e-01,  1.59396334e+00,  6.49916833e-01, -4.95522824e-01,\n",
       "       -1.31705784e+00, -9.79769013e-01,  3.09706739e-01, -2.00217386e-01,\n",
       "       -5.41703590e-01,  2.59766368e+00, -2.45298891e+00,  1.62731071e+00,\n",
       "        1.90071423e+00,  7.24535392e-01, -1.07719253e+00,  8.82147145e-01,\n",
       "        1.16065582e-01,  8.83759529e-01,  1.32875264e+00,  1.14465514e+00,\n",
       "       -7.73306848e-01, -5.56696668e-01, -2.57429342e+00, -1.26035152e+00,\n",
       "        2.80084871e+00,  1.49455090e+00,  1.31937860e-01, -3.03951699e+00,\n",
       "        7.46317715e-01,  3.01301615e-02,  4.76440667e-01, -1.39688492e-01,\n",
       "        4.26911136e-01, -5.37820312e-01, -3.14266233e-01,  5.55266517e-01,\n",
       "        1.28515081e-01, -2.29997651e+00, -1.29580679e+00, -1.66964375e-01,\n",
       "        1.78062586e+00,  4.61807548e-01,  2.32744728e-02,  7.28255429e-01,\n",
       "       -2.31948243e+00,  2.14797018e+00, -1.53738697e+00, -1.29389537e+00,\n",
       "        2.19535899e-01, -2.24839212e-01, -5.00415970e-01,  1.92583026e-01,\n",
       "       -5.52775939e-01, -1.04931617e+00,  7.23334409e-01,  7.65365972e-01,\n",
       "       -5.42875998e-02, -7.20040134e-02, -8.16551021e-01,  1.07605864e+00,\n",
       "        5.11313598e-01, -1.85945768e+00, -3.80734873e-01, -8.94066540e-01,\n",
       "       -1.63761119e+00,  4.38562087e-01,  1.33547228e-01,  6.33664392e-01,\n",
       "        2.52004554e-01, -9.08907002e-01,  5.95278606e-01,  8.82369454e-01,\n",
       "       -9.23851444e-01,  4.70149147e-01,  1.08060256e-01,  4.85726994e-01,\n",
       "       -1.06455224e-02, -2.59018590e+00, -7.50129546e-01,  2.63857903e-01,\n",
       "       -1.45828854e+00,  6.49944420e-01, -7.97081110e-01, -1.32512232e+00,\n",
       "        1.36714220e+00, -1.21009840e+00,  2.13768608e+00, -4.57313499e-01,\n",
       "        1.32024030e+00,  9.97485652e-01,  7.60761790e-01, -1.59665303e+00,\n",
       "       -1.33359637e+00,  7.87230114e-02,  6.77993525e-01,  1.60375212e+00,\n",
       "        6.89982374e-01,  6.27834552e-01,  4.39773387e-01, -2.90669814e-01,\n",
       "        1.54732619e+00,  3.11252458e-02,  5.08699359e-01,  2.23539287e+00,\n",
       "       -1.35477642e+00,  1.01705054e+00,  5.18813091e-01, -6.03927567e-01,\n",
       "       -8.25232646e-01,  1.12337601e-01, -1.43885232e+00,  1.13812670e+00,\n",
       "        1.52084028e+00,  7.86979058e-01,  7.76930268e-01,  1.89298906e+00,\n",
       "        7.50861821e-02,  1.72183088e-01, -3.53929179e-02,  1.63683973e+00,\n",
       "        2.57147618e-02, -1.67378799e-01,  5.74430515e-01,  7.01916114e-01,\n",
       "        5.16816760e-02,  1.34140364e+00, -1.60358116e-01, -3.97610470e-01,\n",
       "       -9.01130419e-01,  1.18793869e+00, -2.02386440e-01, -1.44754668e+00,\n",
       "        1.30657669e+00, -1.46600453e+00, -3.84822039e-01,  7.15193579e-01,\n",
       "        1.98278584e+00, -9.19119649e-01,  2.09985336e-01,  4.74098098e-01,\n",
       "       -2.19992910e-01, -4.09334610e-02,  2.53862639e-02,  8.66694707e-02,\n",
       "       -6.11513532e-01,  2.51292449e-01, -3.02658545e-02,  9.72298541e-01,\n",
       "       -6.65839641e-01,  4.60144654e-01, -9.26924825e-01, -7.66535650e-02,\n",
       "       -5.19126001e-01,  3.21700018e-01,  4.77981455e-01, -1.23507821e-01,\n",
       "       -3.43383480e-01, -2.13845428e-01,  1.16549274e+00,  7.03399780e-01,\n",
       "       -5.92831349e-01, -1.66101599e+00,  7.89499668e-01, -3.77491800e-01,\n",
       "       -1.06071928e+00,  1.07072153e+00, -7.33852612e-01, -2.14295155e+00,\n",
       "        3.54392720e-01,  7.46253005e-01, -1.09369121e+00, -6.76771176e-01,\n",
       "        1.31104755e+00,  4.03829218e-01, -1.89721946e+00,  1.31534807e+00,\n",
       "        9.23002845e-01,  1.27031951e+00,  2.32323024e+00, -6.51497833e-01,\n",
       "       -3.01067510e-01,  1.86445761e-01, -1.16308665e+00, -1.60471889e+00,\n",
       "        1.45515574e+00,  1.04048504e+00, -4.19271624e-01, -4.98375150e-02,\n",
       "       -5.79698909e-01, -1.92583463e-02,  1.50848679e-01,  1.89973106e+00,\n",
       "        1.11482376e+00, -5.72973542e-01, -2.37493377e-01,  5.60787262e-01,\n",
       "       -8.67922289e-01,  7.95508568e-01,  1.07302194e+00,  1.05070982e+00,\n",
       "       -5.56714084e-01, -6.63041169e-01,  8.32906376e-01, -9.41642433e-01,\n",
       "       -5.10545213e-01, -1.69528573e-01, -1.02864371e-01, -1.19091923e+00,\n",
       "        5.68047922e-01, -4.02945310e-01, -2.30065028e-01,  4.21885204e-01,\n",
       "        2.04821891e-01, -1.38893822e+00,  5.31527768e-01, -5.56879217e-01,\n",
       "       -3.46746435e-01, -1.33167957e+00,  3.53174044e-01,  1.17269962e+00,\n",
       "       -1.05779621e+00, -1.87403545e+00, -1.75439492e+00, -5.06170780e-01,\n",
       "       -1.11780316e-01,  4.87650319e-01,  1.08406591e+00,  3.12290466e-01,\n",
       "        5.72139161e-01,  6.33307975e-01, -4.36645551e-01, -9.89032022e-02,\n",
       "        6.94669967e-01,  1.55496617e+00, -1.16477162e-01, -7.72266258e-01,\n",
       "        5.03855891e-01, -2.29538769e+00,  4.80400940e-01, -7.50645210e-01,\n",
       "        9.95854420e-01, -8.47248385e-01,  1.18703948e+00,  2.49301701e-01,\n",
       "        8.86154796e-01,  3.51923603e-01, -3.24295439e-01, -1.54633873e+00,\n",
       "       -5.29264347e-01, -6.12183000e-01,  1.47513488e+00,  2.45211409e-01,\n",
       "       -7.08165169e-01,  7.63173897e-02, -1.35936058e+00,  1.71141944e+00,\n",
       "        1.47825956e-01,  1.10133124e+00,  1.76255256e+00,  4.11895490e-01,\n",
       "       -1.36427945e+00,  1.25762230e+00, -1.02501132e+00, -2.36364499e+00,\n",
       "       -1.60439896e+00,  1.70048820e+00, -1.88410890e-01,  6.56870300e-01,\n",
       "        2.47616972e+00,  1.28405637e+00, -3.05439594e+00, -5.09774911e-01,\n",
       "       -5.62485679e-01, -1.76730563e+00, -9.41686372e-01,  1.43037303e+00,\n",
       "        9.66973856e-02, -2.09777403e+00,  7.68537900e-01, -1.54084981e-01,\n",
       "       -5.92824295e-01,  9.72712357e-01,  1.01695165e+00, -3.18593044e-01,\n",
       "       -4.92646089e-01,  5.24744522e-02,  2.06412984e+00, -1.89158241e-01,\n",
       "       -9.87878739e-01,  9.94428507e-01, -2.52037330e+00, -2.35948356e-01,\n",
       "       -4.36618460e-01,  4.19805919e-01,  4.11290731e-01, -5.58743493e-01,\n",
       "       -3.99001669e-01,  1.72477812e-01,  7.76819658e-02, -1.17098488e+00,\n",
       "        8.59752583e-01, -1.28631359e+00,  3.53545184e-01, -2.54516070e-01,\n",
       "        1.39787132e-01,  1.09271284e+00,  5.08995029e-01,  8.42522871e-01,\n",
       "       -8.62039541e-02, -1.48740292e+00,  2.95118870e-02,  1.16841540e+00,\n",
       "        3.46579923e-01,  1.15195076e+00,  1.71701183e+00, -1.73683985e-01,\n",
       "       -1.94366427e+00, -9.37126754e-01, -3.22183555e-01,  9.69426365e-01,\n",
       "        1.68863529e+00,  1.38548760e-01,  4.06683022e-01,  1.18356564e+00,\n",
       "        7.26868830e-01,  1.40392154e-01,  1.45021431e+00, -1.03924802e+00,\n",
       "        1.18127065e+00, -1.43286449e+00, -3.17391019e-01, -2.21952030e+00,\n",
       "        1.39197712e+00, -1.01754328e-01, -1.84963489e-01,  9.36630645e-02,\n",
       "        3.36599235e-02,  1.31158774e+00, -8.80858745e-01, -1.81400873e+00,\n",
       "        2.18894629e-01, -2.32721297e+00, -1.08445703e+00, -2.67636403e-01,\n",
       "        6.30408961e-01, -1.51264417e+00,  4.86039537e-01, -1.90738919e-01,\n",
       "       -3.33414824e-01, -8.86038886e-01, -2.82791376e-02, -5.05765566e-01,\n",
       "        2.06060899e-01, -3.76427974e-01,  1.64670920e+00,  1.29974931e-01,\n",
       "        1.57164272e-01, -1.70278882e+00,  3.08384064e-01, -1.69883860e+00,\n",
       "        6.92393407e-01,  8.04578500e-01,  1.92639475e+00, -1.11262626e+00,\n",
       "       -4.16996537e-01, -1.16281989e-01,  4.62589834e-01,  1.11202325e+00,\n",
       "        3.04956117e-01,  3.22807949e-01,  1.10294878e+00,  9.32728280e-01,\n",
       "        1.74528546e+00,  2.43210736e-01,  1.21474293e+00, -8.18733726e-01,\n",
       "        6.32247237e-01, -1.06744648e+00,  2.48873797e-02, -7.23830394e-01,\n",
       "        8.64696237e-01,  7.95213860e-01, -3.29798392e-01, -5.45565579e-01,\n",
       "       -1.37099718e-01, -8.66908569e-01, -8.89559826e-01, -1.75922991e+00,\n",
       "        6.45390424e-01,  1.62700825e+00, -2.71814474e+00,  1.35128194e+00,\n",
       "       -7.99525787e-01, -1.77669248e-01,  1.55167852e+00,  1.84740766e+00,\n",
       "        2.18999536e-01, -1.28620920e+00, -6.83473604e-02,  9.26262913e-01,\n",
       "        1.26623359e-01,  3.00091959e-01, -4.12636437e-01,  1.49559317e-01,\n",
       "       -1.53153837e+00, -9.83563001e-02, -1.69936821e-01, -7.49273308e-01,\n",
       "        5.28797226e-01, -5.85242566e-01,  1.23261800e+00,  3.77185424e-01,\n",
       "        2.66356364e-01,  1.23589982e+00,  2.82522964e+00, -1.31342032e+00,\n",
       "        2.65366394e+00, -1.89668030e+00,  1.56221206e-01,  7.50519966e-01,\n",
       "        1.47814826e+00,  6.67251433e-01, -9.82316432e-01,  1.13059589e+00,\n",
       "        1.16193858e+00,  4.59874011e-02,  1.03890441e+00, -9.49714738e-01,\n",
       "        1.44687196e+00,  8.17008592e-01, -1.15571944e+00,  1.30649388e+00,\n",
       "        5.55178172e-01, -1.13332638e+00, -4.53958867e-01, -1.11202121e+00,\n",
       "       -1.42630674e-01, -2.47527602e-01, -1.30775735e+00,  1.21860825e+00,\n",
       "       -6.67038528e-01, -3.08597797e-01, -8.25166452e-01,  1.07092909e+00,\n",
       "       -5.69470978e-01, -8.65170076e-01,  4.11231069e-01,  2.73841515e-01,\n",
       "        4.24454743e-01, -1.43109119e+00, -4.79357201e-02,  7.18440911e-01,\n",
       "        5.07945787e-01, -2.95197058e-01,  6.51025928e-01,  8.69573585e-01,\n",
       "       -1.48702690e+00,  6.34231610e-01,  1.09318271e+00,  2.78401430e-01,\n",
       "        1.96245838e-01,  4.27168406e-01,  1.08583408e-01, -3.50915317e-01,\n",
       "        1.26642883e+00,  4.93156999e-01,  4.51842498e-01,  1.01280195e-01,\n",
       "        1.08504239e+00, -2.08734131e-01, -2.14906651e+00,  1.00323702e+00,\n",
       "        8.34773788e-01,  4.54769820e-01,  7.11245529e-02, -1.77248879e+00,\n",
       "       -3.59207551e-02, -1.44991681e-01,  9.46463170e-02,  4.53837723e-02])"
      ]
     },
     "execution_count": 4,
     "metadata": {},
     "output_type": "execute_result"
    }
   ],
   "source": [
    "data"
   ]
  },
  {
   "cell_type": "code",
   "execution_count": 5,
   "metadata": {},
   "outputs": [
    {
     "name": "stderr",
     "output_type": "stream",
     "text": [
      "D:\\anaconda3\\lib\\site-packages\\scipy\\stats\\stats.py:1713: FutureWarning: Using a non-tuple sequence for multidimensional indexing is deprecated; use `arr[tuple(seq)]` instead of `arr[seq]`. In the future this will be interpreted as an array index, `arr[np.array(seq)]`, which will result either in an error or a different result.\n",
      "  return np.add.reduce(sorted[indexer] * weights, axis=axis) / sumval\n"
     ]
    },
    {
     "data": {
      "image/png": "[encoded data removed]",
      "text/plain": [
       "<Figure size 432x288 with 1 Axes>"
      ]
     },
     "metadata": {
      "needs_background": "light"
     },
     "output_type": "display_data"
    }
   ],
   "source": [
    "#画一个简单的密度图\n",
    "sns.kdeplot(data);"
   ]
  },
  {
   "cell_type": "code",
   "execution_count": 6,
   "metadata": {},
   "outputs": [
    {
     "data": {
      "image/png": "[encoded data removed]",
      "text/plain": [
       "<Figure size 432x288 with 1 Axes>"
      ]
     },
     "metadata": {
      "needs_background": "light"
     },
     "output_type": "display_data"
    }
   ],
   "source": [
    "#给密度图添加一些简单装饰\n",
    "sns.kdeplot(data\n",
    "            ,shade=True       #填充曲线下阴影的控制参数\n",
    "            #,vertical=True\n",
    "            ,color='r'   #控制颜色\n",
    "            ,alpha=0.8  #控制颜色的色彩饱和度\n",
    "            ,linewidth=3\n",
    "            ,linestyle='--'\n",
    "           );"
   ]
  },
  {
   "cell_type": "code",
   "execution_count": 7,
   "metadata": {},
   "outputs": [
    {
     "data": {
      "image/png": "[encoded data removed]",
      "text/plain": [
       "<Figure size 432x288 with 1 Axes>"
      ]
     },
     "metadata": {
      "needs_background": "light"
     },
     "output_type": "display_data"
    }
   ],
   "source": [
    "plt.hist(data);"
   ]
  },
  {
   "cell_type": "markdown",
   "metadata": {},
   "source": [
    "### 3.认识所用数据集"
   ]
  },
  {
   "cell_type": "code",
   "execution_count": 8,
   "metadata": {},
   "outputs": [],
   "source": [
    "#导入数据\n",
    "df = pd.read_csv(\"https://github.com/selva86/datasets/raw/master/mpg_ggplot2.csv\")"
   ]
  },
  {
   "cell_type": "code",
   "execution_count": 9,
   "metadata": {},
   "outputs": [
    {
     "data": {
      "text/html": [
       "<div>\n",
       "<style scoped>\n",
       "    .dataframe tbody tr th:only-of-type {\n",
       "        vertical-align: middle;\n",
       "    }\n",
       "\n",
       "    .dataframe tbody tr th {\n",
       "        vertical-align: top;\n",
       "    }\n",
       "\n",
       "    .dataframe thead th {\n",
       "        text-align: right;\n",
       "    }\n",
       "</style>\n",
       "<table border=\"1\" class=\"dataframe\">\n",
       "  <thead>\n",
       "    <tr style=\"text-align: right;\">\n",
       "      <th></th>\n",
       "      <th>manufacturer</th>\n",
       "      <th>model</th>\n",
       "      <th>displ</th>\n",
       "      <th>year</th>\n",
       "      <th>cyl</th>\n",
       "      <th>trans</th>\n",
       "      <th>drv</th>\n",
       "      <th>cty</th>\n",
       "      <th>hwy</th>\n",
       "      <th>fl</th>\n",
       "      <th>class</th>\n",
       "    </tr>\n",
       "  </thead>\n",
       "  <tbody>\n",
       "    <tr>\n",
       "      <th>0</th>\n",
       "      <td>audi</td>\n",
       "      <td>a4</td>\n",
       "      <td>1.8</td>\n",
       "      <td>1999</td>\n",
       "      <td>4</td>\n",
       "      <td>auto(l5)</td>\n",
       "      <td>f</td>\n",
       "      <td>18</td>\n",
       "      <td>29</td>\n",
       "      <td>p</td>\n",
       "      <td>compact</td>\n",
       "    </tr>\n",
       "    <tr>\n",
       "      <th>1</th>\n",
       "      <td>audi</td>\n",
       "      <td>a4</td>\n",
       "      <td>1.8</td>\n",
       "      <td>1999</td>\n",
       "      <td>4</td>\n",
       "      <td>manual(m5)</td>\n",
       "      <td>f</td>\n",
       "      <td>21</td>\n",
       "      <td>29</td>\n",
       "      <td>p</td>\n",
       "      <td>compact</td>\n",
       "    </tr>\n",
       "    <tr>\n",
       "      <th>2</th>\n",
       "      <td>audi</td>\n",
       "      <td>a4</td>\n",
       "      <td>2.0</td>\n",
       "      <td>2008</td>\n",
       "      <td>4</td>\n",
       "      <td>manual(m6)</td>\n",
       "      <td>f</td>\n",
       "      <td>20</td>\n",
       "      <td>31</td>\n",
       "      <td>p</td>\n",
       "      <td>compact</td>\n",
       "    </tr>\n",
       "    <tr>\n",
       "      <th>3</th>\n",
       "      <td>audi</td>\n",
       "      <td>a4</td>\n",
       "      <td>2.0</td>\n",
       "      <td>2008</td>\n",
       "      <td>4</td>\n",
       "      <td>auto(av)</td>\n",
       "      <td>f</td>\n",
       "      <td>21</td>\n",
       "      <td>30</td>\n",
       "      <td>p</td>\n",
       "      <td>compact</td>\n",
       "    </tr>\n",
       "    <tr>\n",
       "      <th>4</th>\n",
       "      <td>audi</td>\n",
       "      <td>a4</td>\n",
       "      <td>2.8</td>\n",
       "      <td>1999</td>\n",
       "      <td>6</td>\n",
       "      <td>auto(l5)</td>\n",
       "      <td>f</td>\n",
       "      <td>16</td>\n",
       "      <td>26</td>\n",
       "      <td>p</td>\n",
       "      <td>compact</td>\n",
       "    </tr>\n",
       "  </tbody>\n",
       "</table>\n",
       "</div>"
      ],
      "text/plain": [
       "  manufacturer model  displ  year  cyl       trans drv  cty  hwy fl    class\n",
       "0         audi    a4    1.8  1999    4    auto(l5)   f   18   29  p  compact\n",
       "1         audi    a4    1.8  1999    4  manual(m5)   f   21   29  p  compact\n",
       "2         audi    a4    2.0  2008    4  manual(m6)   f   20   31  p  compact\n",
       "3         audi    a4    2.0  2008    4    auto(av)   f   21   30  p  compact\n",
       "4         audi    a4    2.8  1999    6    auto(l5)   f   16   26  p  compact"
      ]
     },
     "execution_count": 9,
     "metadata": {},
     "output_type": "execute_result"
    }
   ],
   "source": [
    "df.head()"
   ]
  },
  {
   "cell_type": "code",
   "execution_count": 11,
   "metadata": {},
   "outputs": [
    {
     "data": {
      "text/plain": [
       "(234, 11)"
      ]
     },
     "execution_count": 11,
     "metadata": {},
     "output_type": "execute_result"
    }
   ],
   "source": [
    "df.shape"
   ]
  },
  {
   "cell_type": "code",
   "execution_count": 12,
   "metadata": {},
   "outputs": [
    {
     "data": {
      "text/plain": [
       "Index(['manufacturer', 'model', 'displ', 'year', 'cyl', 'trans', 'drv', 'cty',\n",
       "       'hwy', 'fl', 'class'],\n",
       "      dtype='object')"
      ]
     },
     "execution_count": 12,
     "metadata": {},
     "output_type": "execute_result"
    }
   ],
   "source": [
    "df.columns"
   ]
  },
  {
   "cell_type": "code",
   "execution_count": 13,
   "metadata": {},
   "outputs": [],
   "source": [
    "name = [\"汽车制造商\",\"型号名称\",\"发动机排量(L)\",\"制造年份\",\"气缸数量\",\"手动/自动\"\n",
    "              ,\"驱动类型\",\"城市里程/加仑\",\"公路里程/加仑\",\"汽油种类\",\"车辆类型\"]"
   ]
  },
  {
   "cell_type": "code",
   "execution_count": 14,
   "metadata": {},
   "outputs": [
    {
     "data": {
      "text/plain": [
       "<zip at 0x28860dd81c8>"
      ]
     },
     "execution_count": 14,
     "metadata": {},
     "output_type": "execute_result"
    }
   ],
   "source": [
    "zip(df.columns,np.array(name))"
   ]
  },
  {
   "cell_type": "code",
   "execution_count": 15,
   "metadata": {},
   "outputs": [
    {
     "data": {
      "text/plain": [
       "[('manufacturer', '汽车制造商'),\n",
       " ('model', '型号名称'),\n",
       " ('displ', '发动机排量(L)'),\n",
       " ('year', '制造年份'),\n",
       " ('cyl', '气缸数量'),\n",
       " ('trans', '手动/自动'),\n",
       " ('drv', '驱动类型'),\n",
       " ('cty', '城市里程/加仑'),\n",
       " ('hwy', '公路里程/加仑'),\n",
       " ('fl', '汽油种类'),\n",
       " ('class', '车辆类型')]"
      ]
     },
     "execution_count": 15,
     "metadata": {},
     "output_type": "execute_result"
    }
   ],
   "source": [
    "[*zip(df.columns,np.array(name))]"
   ]
  },
  {
   "cell_type": "markdown",
   "metadata": {},
   "source": [
    "### 4.绘制密度图   \n",
    "今天绘制的目标图形是城市里程随气缸数变化的密度图"
   ]
  },
  {
   "cell_type": "code",
   "execution_count": 16,
   "metadata": {},
   "outputs": [
    {
     "data": {
      "text/plain": [
       "array([18, 21, 20, 21, 16, 18, 18, 18, 16, 20, 19, 15, 17, 17, 15, 15, 17,\n",
       "       16, 14, 11, 14, 13, 12, 16, 15, 16, 15, 15, 14, 11, 11, 14, 19, 22,\n",
       "       18, 18, 17, 18, 17, 16, 16, 17, 17, 11, 15, 15, 16, 16, 15, 14, 13,\n",
       "       14, 14, 14,  9, 11, 11, 13, 13,  9, 13, 11, 13, 11, 12,  9, 13, 13,\n",
       "       12,  9, 11, 11, 13, 11, 11, 11, 12, 14, 15, 14, 13, 13, 13, 14, 14,\n",
       "       13, 13, 13, 11, 13, 18, 18, 17, 16, 15, 15, 15, 15, 14, 28, 24, 25,\n",
       "       23, 24, 26, 25, 24, 21, 18, 18, 21, 21, 18, 18, 19, 19, 19, 20, 20,\n",
       "       17, 16, 17, 17, 15, 15, 14,  9, 14, 13, 11, 11, 12, 12, 11, 11, 11,\n",
       "       12, 14, 13, 13, 13, 21, 19, 23, 23, 19, 19, 18, 19, 19, 14, 15, 14,\n",
       "       12, 18, 16, 17, 18, 16, 18, 18, 20, 19, 20, 18, 21, 19, 19, 19, 20,\n",
       "       20, 19, 20, 15, 16, 15, 15, 16, 14, 21, 21, 21, 21, 18, 18, 19, 21,\n",
       "       21, 21, 22, 18, 18, 18, 24, 24, 26, 28, 26, 11, 13, 15, 16, 17, 15,\n",
       "       15, 15, 16, 21, 19, 21, 22, 17, 33, 21, 19, 22, 21, 21, 21, 16, 17,\n",
       "       35, 29, 21, 19, 20, 20, 21, 18, 19, 21, 16, 18, 17], dtype=int64)"
      ]
     },
     "execution_count": 16,
     "metadata": {},
     "output_type": "execute_result"
    }
   ],
   "source": [
    "#首先我们一起来看一下城市里程\n",
    "df.cty.values"
   ]
  },
  {
   "cell_type": "code",
   "execution_count": 17,
   "metadata": {},
   "outputs": [
    {
     "data": {
      "text/plain": [
       "4    81\n",
       "6    79\n",
       "8    70\n",
       "5     4\n",
       "Name: cyl, dtype: int64"
      ]
     },
     "execution_count": 17,
     "metadata": {},
     "output_type": "execute_result"
    }
   ],
   "source": [
    "#气缸数\n",
    "df.cyl.value_counts()  #可以看出气缸数有4种类型：4缸、5缸、6缸、8缸"
   ]
  },
  {
   "cell_type": "markdown",
   "metadata": {},
   "source": [
    "绘制气缸数为4的城市里程密度图"
   ]
  },
  {
   "cell_type": "code",
   "execution_count": 18,
   "metadata": {},
   "outputs": [
    {
     "data": {
      "text/plain": [
       "array([18, 21, 20, 21, 18, 16, 20, 19, 19, 22, 18, 28, 24, 25, 23, 24, 26,\n",
       "       25, 24, 21, 18, 18, 21, 21, 19, 19, 20, 20, 21, 19, 23, 23, 18, 18,\n",
       "       20, 19, 20, 18, 21, 19, 19, 19, 20, 20, 19, 20, 15, 16, 21, 21, 21,\n",
       "       21, 21, 21, 21, 22, 24, 24, 26, 28, 26, 15, 16, 17, 21, 19, 21, 22,\n",
       "       33, 21, 19, 22, 21, 35, 29, 21, 19, 21, 18, 19, 21], dtype=int64)"
      ]
     },
     "execution_count": 18,
     "metadata": {},
     "output_type": "execute_result"
    }
   ],
   "source": [
    "df.loc[df.cyl==4,'cty'].values"
   ]
  },
  {
   "cell_type": "code",
   "execution_count": 19,
   "metadata": {},
   "outputs": [
    {
     "data": {
      "text/plain": [
       "array([18, 21, 20, 21, 18, 16, 20, 19, 19, 22, 18, 28, 24, 25, 23, 24, 26,\n",
       "       25, 24, 21, 18, 18, 21, 21, 19, 19, 20, 20, 21, 19, 23, 23, 18, 18,\n",
       "       20, 19, 20, 18, 21, 19, 19, 19, 20, 20, 19, 20, 15, 16, 21, 21, 21,\n",
       "       21, 21, 21, 21, 22, 24, 24, 26, 28, 26, 15, 16, 17, 21, 19, 21, 22,\n",
       "       33, 21, 19, 22, 21, 35, 29, 21, 19, 21, 18, 19, 21], dtype=int64)"
      ]
     },
     "execution_count": 19,
     "metadata": {},
     "output_type": "execute_result"
    }
   ],
   "source": [
    "#筛选出气缸数为4的城市里程\n",
    "c4 = df.loc[df.cyl==4,'cty'].values\n",
    "c4"
   ]
  },
  {
   "cell_type": "code",
   "execution_count": 20,
   "metadata": {},
   "outputs": [
    {
     "data": {
      "image/png": "[encoded data removed]",
      "text/plain": [
       "<Figure size 432x288 with 1 Axes>"
      ]
     },
     "metadata": {
      "needs_background": "light"
     },
     "output_type": "display_data"
    }
   ],
   "source": [
    "#绘制图形\n",
    "sns.kdeplot(c4\n",
    "            ,shade=True\n",
    "            ,color='r'\n",
    "            ,alpha=0.3\n",
    "            ,label='Cyl=4'\n",
    "           );"
   ]
  },
  {
   "cell_type": "markdown",
   "metadata": {},
   "source": [
    "同样的方法可以依次绘制出5缸、6缸、8缸的城市里程密度图"
   ]
  },
  {
   "cell_type": "code",
   "execution_count": 21,
   "metadata": {},
   "outputs": [
    {
     "data": {
      "image/png": "[encoded data removed]",
      "text/plain": [
       "<Figure size 720x480 with 1 Axes>"
      ]
     },
     "metadata": {
      "needs_background": "light"
     },
     "output_type": "display_data"
    }
   ],
   "source": [
    "#提取绘图数据\n",
    "c4 = df.loc[df.cyl==4,'cty'].values\n",
    "c5 = df.loc[df.cyl==5,'cty'].values\n",
    "c6 = df.loc[df.cyl==6,'cty'].values\n",
    "c8 = df.loc[df.cyl==8,'cty'].values\n",
    "\n",
    "#创建画布并设定画布尺寸\n",
    "plt.figure(figsize=(12,8),dpi=60)\n",
    "\n",
    "#绘制图形\n",
    "sns.kdeplot(c4,shade=True,color='deeppink',alpha=0.6,label='Cyl = 4')\n",
    "sns.kdeplot(c5,shade=True,color='green',alpha=0.6,label='Cyl = 5')\n",
    "sns.kdeplot(c6,shade=True,color='blue',alpha=0.6,label='Cyl = 6')\n",
    "sns.kdeplot(c8,shade=True,color='orange',alpha=0.6,label='Cyl = 8')\n",
    "\n",
    "#添加装饰\n",
    "plt.title('城市里程随气缸数变化密度图',fontsize=20)\n",
    "plt.xlabel('城市里程（cty）',fontsize=18)\n",
    "plt.xticks(fontsize=15)\n",
    "plt.yticks(fontsize=15)\n",
    "plt.legend(fontsize=13,loc=0);"
   ]
  },
  {
   "cell_type": "code",
   "execution_count": 22,
   "metadata": {},
   "outputs": [
    {
     "data": {
      "image/png": "[encoded data removed]",
      "text/plain": [
       "<Figure size 720x480 with 1 Axes>"
      ]
     },
     "metadata": {
      "needs_background": "light"
     },
     "output_type": "display_data"
    }
   ],
   "source": [
    "#源代码\n",
    "\n",
    "# Import Data\n",
    "df = pd.read_csv(\"https://github.com/selva86/datasets/raw/master/mpg_ggplot2.csv\") #导入数据集\n",
    "\n",
    "# Draw Plot\n",
    "plt.figure(figsize=(12,8), dpi= 60) #创建画布并设定画布大小\n",
    "sns.kdeplot(df.loc[df['cyl'] == 4, \"cty\"], shade=True, color=\"g\", label=\"Cyl=4\", alpha=.7)           #绘制气缸数为4的密度曲线\n",
    "sns.kdeplot(df.loc[df['cyl'] == 5, \"cty\"], shade=True, color=\"deeppink\", label=\"Cyl=5\", alpha=.7)    #绘制气缸数为5的密度曲线\n",
    "sns.kdeplot(df.loc[df['cyl'] == 6, \"cty\"], shade=True, color=\"dodgerblue\", label=\"Cyl=6\", alpha=.7)  #绘制气缸数为6的密度曲线\n",
    "sns.kdeplot(df.loc[df['cyl'] == 8, \"cty\"], shade=True, color=\"orange\", label=\"Cyl=8\", alpha=.7)      #绘制气缸数为8的密度曲线\n",
    "\n",
    "# Decoration\n",
    "plt.title('Density Plot of City Mileage by n_Cylinders', fontsize=22) #添加标题\n",
    "plt.legend() #添加图例\n",
    "plt.show()   #本地显示图形"
   ]
  },
  {
   "cell_type": "markdown",
   "metadata": {},
   "source": [
    "### 5. 图像解读"
   ]
  },
  {
   "cell_type": "code",
   "execution_count": null,
   "metadata": {},
   "outputs": [],
   "source": []
  },
  {
   "cell_type": "markdown",
   "metadata": {},
   "source": [
    "### <font color=bule> 23/50 直方密度曲线图（Density Curves with Histogram）"
   ]
  },
  {
   "cell_type": "markdown",
   "metadata": {},
   "source": [
    "直方密度曲线图其实就是直方图和密度图的结合，把两种图放在同一个图形里面。所以我们可以从这一个图里面同时看到直方图和密度图两个图传达出来的信息"
   ]
  },
  {
   "cell_type": "markdown",
   "metadata": {},
   "source": [
    "<img src='http://pictes.oss-cn-beijing.aliyuncs.com/microclass-virtualisation/week4%20Distribution/%E7%9B%B4%E6%96%B9%E5%AF%86%E5%BA%A6%E7%BA%BF%E5%9B%BE.png' width=500>"
   ]
  },
  {
   "cell_type": "markdown",
   "metadata": {},
   "source": [
    "横坐标：城市里程   \n",
    "纵坐标：概率密度   \n",
    "图例：汽车类型   "
   ]
  },
  {
   "cell_type": "markdown",
   "metadata": {},
   "source": [
    "### 1.导入相应的绘图包"
   ]
  },
  {
   "cell_type": "code",
   "execution_count": 23,
   "metadata": {},
   "outputs": [],
   "source": [
    "import pandas as pd\n",
    "import numpy as np\n",
    "import seaborn as sns\n",
    "import matplotlib.pyplot as plt\n",
    "%matplotlib inline\n",
    "#如果用jupyter notebook则需要这行代码让你的图像显示，如果是jupyterlab则不需要\n",
    "\n",
    "plt.rcParams['font.sans-serif']=['Simhei'] #显示中文\n",
    "plt.rcParams['axes.unicode_minus']=False   #显示负号"
   ]
  },
  {
   "cell_type": "markdown",
   "metadata": {},
   "source": [
    "### 2. 认识绘制直方密度曲线图的函数"
   ]
  },
  {
   "cell_type": "markdown",
   "metadata": {},
   "source": [
    "**sns.distplot()**\n",
    "> 重要参数   \n",
    ">> a：绘制图形的数据   \n",
    ">> bins：直方图参数,把数据分成多少个箱子   \n",
    ">> hist：控制直方图显示的参数（True/False,默认是True）   \n",
    ">> kde：控制密度曲线显示的参数（True/False,默认是True）    \n",
    ">> hist_kws：直方图控制参数  \n",
    ">> kde_kws：密度图控制参数  "
   ]
  },
  {
   "cell_type": "markdown",
   "metadata": {},
   "source": [
    "#### 绘制简单的直方密度曲线图"
   ]
  },
  {
   "cell_type": "code",
   "execution_count": 24,
   "metadata": {},
   "outputs": [],
   "source": [
    "#创建100个满足正态分布的数据\n",
    "X = np.random.randn(100)"
   ]
  },
  {
   "cell_type": "code",
   "execution_count": 25,
   "metadata": {},
   "outputs": [
    {
     "data": {
      "text/plain": [
       "array([ 0.89927017, -0.23439109,  0.14561522,  0.34629992, -0.34753042,\n",
       "       -0.22500872,  0.74950664, -0.16966839, -0.68853842,  1.08584528,\n",
       "       -0.57030204, -0.42644205, -0.3336229 ,  0.69669798,  0.3172933 ,\n",
       "       -0.48594005, -0.46251464,  0.66711428,  0.23311078,  0.02564322,\n",
       "       -1.42949346, -1.40847477,  1.88551416,  0.43532562,  0.07358171,\n",
       "        0.20470613, -0.00737318,  0.07876925, -1.59386605, -0.73899055,\n",
       "       -0.56809349, -0.05786534,  0.2361536 ,  1.02378769,  0.04115993,\n",
       "        0.98551968, -0.53246825, -1.51427501, -0.05100888,  1.06600641,\n",
       "        0.31332666,  1.23223123, -1.05431421,  0.04043121, -1.12290558,\n",
       "        0.88336716, -0.23889827,  1.48419508, -1.32113677,  0.10535618,\n",
       "       -0.34021231, -0.99247179,  0.16098763, -0.64988848, -0.78222866,\n",
       "       -0.19778242, -2.71827058, -1.15632381, -0.39526097, -0.28689795,\n",
       "        2.37617536,  0.69774823,  0.5288853 , -0.31527711,  0.30189172,\n",
       "        0.47745175,  0.10893938, -0.90104624,  0.35476585,  1.04262705,\n",
       "       -0.49521302, -0.91156532,  0.53915479, -0.40046287,  0.46291155,\n",
       "       -0.758619  ,  1.23971583,  0.79278332, -0.83486371,  0.57923074,\n",
       "       -0.63775933, -1.02724576,  0.58553625, -0.11267788, -0.77085084,\n",
       "       -0.27850056,  1.64253466, -0.52382408,  0.34740317,  1.06199299,\n",
       "       -0.52497432, -0.16473374, -0.37477503, -0.38669836, -0.03252702,\n",
       "       -0.10826097,  0.70771023,  1.13022731,  1.00899016,  0.02202974])"
      ]
     },
     "execution_count": 25,
     "metadata": {},
     "output_type": "execute_result"
    }
   ],
   "source": [
    "X"
   ]
  },
  {
   "cell_type": "code",
   "execution_count": 26,
   "metadata": {},
   "outputs": [
    {
     "data": {
      "image/png": "[encoded data removed]",
      "text/plain": [
       "<Figure size 432x288 with 1 Axes>"
      ]
     },
     "metadata": {
      "needs_background": "light"
     },
     "output_type": "display_data"
    }
   ],
   "source": [
    "#绘制简单的直方密度线图\n",
    "sns.distplot(X);"
   ]
  },
  {
   "cell_type": "code",
   "execution_count": 27,
   "metadata": {},
   "outputs": [
    {
     "data": {
      "image/png": "[encoded data removed]",
      "text/plain": [
       "<Figure size 432x288 with 1 Axes>"
      ]
     },
     "metadata": {
      "needs_background": "light"
     },
     "output_type": "display_data"
    }
   ],
   "source": [
    "#尝试图形中的参数\n",
    "sns.distplot(X\n",
    "             ,bins=10\n",
    "             #,hist=False\n",
    "             #,kde=False\n",
    "             ,hist_kws={'color':'g','histtype':'bar','alpha':0.4} \n",
    "             ,kde_kws={'color':'r','linestyle':'-.','linewidth':3,'alpha':0.7}\n",
    "            );"
   ]
  },
  {
   "cell_type": "markdown",
   "metadata": {},
   "source": [
    "条形图的种类有四种：  \n",
    "- bar：简单的条形图（默认）\n",
    "- barstacked：堆积条形图\n",
    "- step：默认未填充的线图\n",
    "- stepfilled：默认被填充的线图"
   ]
  },
  {
   "cell_type": "markdown",
   "metadata": {},
   "source": [
    "### 3.认识绘制图形的数据集"
   ]
  },
  {
   "cell_type": "code",
   "execution_count": 28,
   "metadata": {},
   "outputs": [],
   "source": [
    "df = pd.read_csv(\"https://github.com/selva86/datasets/raw/master/mpg_ggplot2.csv\")"
   ]
  },
  {
   "cell_type": "code",
   "execution_count": 29,
   "metadata": {},
   "outputs": [
    {
     "data": {
      "text/html": [
       "<div>\n",
       "<style scoped>\n",
       "    .dataframe tbody tr th:only-of-type {\n",
       "        vertical-align: middle;\n",
       "    }\n",
       "\n",
       "    .dataframe tbody tr th {\n",
       "        vertical-align: top;\n",
       "    }\n",
       "\n",
       "    .dataframe thead th {\n",
       "        text-align: right;\n",
       "    }\n",
       "</style>\n",
       "<table border=\"1\" class=\"dataframe\">\n",
       "  <thead>\n",
       "    <tr style=\"text-align: right;\">\n",
       "      <th></th>\n",
       "      <th>manufacturer</th>\n",
       "      <th>model</th>\n",
       "      <th>displ</th>\n",
       "      <th>year</th>\n",
       "      <th>cyl</th>\n",
       "      <th>trans</th>\n",
       "      <th>drv</th>\n",
       "      <th>cty</th>\n",
       "      <th>hwy</th>\n",
       "      <th>fl</th>\n",
       "      <th>class</th>\n",
       "    </tr>\n",
       "  </thead>\n",
       "  <tbody>\n",
       "    <tr>\n",
       "      <th>0</th>\n",
       "      <td>audi</td>\n",
       "      <td>a4</td>\n",
       "      <td>1.8</td>\n",
       "      <td>1999</td>\n",
       "      <td>4</td>\n",
       "      <td>auto(l5)</td>\n",
       "      <td>f</td>\n",
       "      <td>18</td>\n",
       "      <td>29</td>\n",
       "      <td>p</td>\n",
       "      <td>compact</td>\n",
       "    </tr>\n",
       "    <tr>\n",
       "      <th>1</th>\n",
       "      <td>audi</td>\n",
       "      <td>a4</td>\n",
       "      <td>1.8</td>\n",
       "      <td>1999</td>\n",
       "      <td>4</td>\n",
       "      <td>manual(m5)</td>\n",
       "      <td>f</td>\n",
       "      <td>21</td>\n",
       "      <td>29</td>\n",
       "      <td>p</td>\n",
       "      <td>compact</td>\n",
       "    </tr>\n",
       "    <tr>\n",
       "      <th>2</th>\n",
       "      <td>audi</td>\n",
       "      <td>a4</td>\n",
       "      <td>2.0</td>\n",
       "      <td>2008</td>\n",
       "      <td>4</td>\n",
       "      <td>manual(m6)</td>\n",
       "      <td>f</td>\n",
       "      <td>20</td>\n",
       "      <td>31</td>\n",
       "      <td>p</td>\n",
       "      <td>compact</td>\n",
       "    </tr>\n",
       "    <tr>\n",
       "      <th>3</th>\n",
       "      <td>audi</td>\n",
       "      <td>a4</td>\n",
       "      <td>2.0</td>\n",
       "      <td>2008</td>\n",
       "      <td>4</td>\n",
       "      <td>auto(av)</td>\n",
       "      <td>f</td>\n",
       "      <td>21</td>\n",
       "      <td>30</td>\n",
       "      <td>p</td>\n",
       "      <td>compact</td>\n",
       "    </tr>\n",
       "    <tr>\n",
       "      <th>4</th>\n",
       "      <td>audi</td>\n",
       "      <td>a4</td>\n",
       "      <td>2.8</td>\n",
       "      <td>1999</td>\n",
       "      <td>6</td>\n",
       "      <td>auto(l5)</td>\n",
       "      <td>f</td>\n",
       "      <td>16</td>\n",
       "      <td>26</td>\n",
       "      <td>p</td>\n",
       "      <td>compact</td>\n",
       "    </tr>\n",
       "  </tbody>\n",
       "</table>\n",
       "</div>"
      ],
      "text/plain": [
       "  manufacturer model  displ  year  cyl       trans drv  cty  hwy fl    class\n",
       "0         audi    a4    1.8  1999    4    auto(l5)   f   18   29  p  compact\n",
       "1         audi    a4    1.8  1999    4  manual(m5)   f   21   29  p  compact\n",
       "2         audi    a4    2.0  2008    4  manual(m6)   f   20   31  p  compact\n",
       "3         audi    a4    2.0  2008    4    auto(av)   f   21   30  p  compact\n",
       "4         audi    a4    2.8  1999    6    auto(l5)   f   16   26  p  compact"
      ]
     },
     "execution_count": 29,
     "metadata": {},
     "output_type": "execute_result"
    }
   ],
   "source": [
    "df.head()"
   ]
  },
  {
   "cell_type": "code",
   "execution_count": 30,
   "metadata": {},
   "outputs": [
    {
     "data": {
      "text/plain": [
       "(234, 11)"
      ]
     },
     "execution_count": 30,
     "metadata": {},
     "output_type": "execute_result"
    }
   ],
   "source": [
    "df.shape"
   ]
  },
  {
   "cell_type": "code",
   "execution_count": 31,
   "metadata": {},
   "outputs": [
    {
     "data": {
      "text/plain": [
       "Index(['manufacturer', 'model', 'displ', 'year', 'cyl', 'trans', 'drv', 'cty',\n",
       "       'hwy', 'fl', 'class'],\n",
       "      dtype='object')"
      ]
     },
     "execution_count": 31,
     "metadata": {},
     "output_type": "execute_result"
    }
   ],
   "source": [
    "df.columns"
   ]
  },
  {
   "cell_type": "code",
   "execution_count": 32,
   "metadata": {},
   "outputs": [],
   "source": [
    "name = [\"汽车制造商\",\"型号名称\",\"发动机排量(L)\",\"制造年份\"\n",
    "        ,\"气缸数量\",\"手动/自动\",\"驱动类型\",\"城市里程/加仑\"\n",
    "        ,\"公路里程/加仑\",\"汽油种类\",\"车辆类型\"]"
   ]
  },
  {
   "cell_type": "code",
   "execution_count": 33,
   "metadata": {},
   "outputs": [
    {
     "data": {
      "text/plain": [
       "[('manufacturer', '汽车制造商'),\n",
       " ('model', '型号名称'),\n",
       " ('displ', '发动机排量(L)'),\n",
       " ('year', '制造年份'),\n",
       " ('cyl', '气缸数量'),\n",
       " ('trans', '手动/自动'),\n",
       " ('drv', '驱动类型'),\n",
       " ('cty', '城市里程/加仑'),\n",
       " ('hwy', '公路里程/加仑'),\n",
       " ('fl', '汽油种类'),\n",
       " ('class', '车辆类型')]"
      ]
     },
     "execution_count": 33,
     "metadata": {},
     "output_type": "execute_result"
    }
   ],
   "source": [
    "[*zip(df.columns,np.array(name))]"
   ]
  },
  {
   "cell_type": "markdown",
   "metadata": {},
   "source": [
    "### 4.绘制直方密度曲线图"
   ]
  },
  {
   "cell_type": "markdown",
   "metadata": {},
   "source": [
    "我们绘制目标图形需要的数据是：城市里程，汽车种类"
   ]
  },
  {
   "cell_type": "code",
   "execution_count": 34,
   "metadata": {},
   "outputs": [
    {
     "data": {
      "text/plain": [
       "array([18, 21, 20, 21, 16, 18, 18, 18, 16, 20, 19, 15, 17, 17, 15, 15, 17,\n",
       "       16, 14, 11, 14, 13, 12, 16, 15, 16, 15, 15, 14, 11, 11, 14, 19, 22,\n",
       "       18, 18, 17, 18, 17, 16, 16, 17, 17, 11, 15, 15, 16, 16, 15, 14, 13,\n",
       "       14, 14, 14,  9, 11, 11, 13, 13,  9, 13, 11, 13, 11, 12,  9, 13, 13,\n",
       "       12,  9, 11, 11, 13, 11, 11, 11, 12, 14, 15, 14, 13, 13, 13, 14, 14,\n",
       "       13, 13, 13, 11, 13, 18, 18, 17, 16, 15, 15, 15, 15, 14, 28, 24, 25,\n",
       "       23, 24, 26, 25, 24, 21, 18, 18, 21, 21, 18, 18, 19, 19, 19, 20, 20,\n",
       "       17, 16, 17, 17, 15, 15, 14,  9, 14, 13, 11, 11, 12, 12, 11, 11, 11,\n",
       "       12, 14, 13, 13, 13, 21, 19, 23, 23, 19, 19, 18, 19, 19, 14, 15, 14,\n",
       "       12, 18, 16, 17, 18, 16, 18, 18, 20, 19, 20, 18, 21, 19, 19, 19, 20,\n",
       "       20, 19, 20, 15, 16, 15, 15, 16, 14, 21, 21, 21, 21, 18, 18, 19, 21,\n",
       "       21, 21, 22, 18, 18, 18, 24, 24, 26, 28, 26, 11, 13, 15, 16, 17, 15,\n",
       "       15, 15, 16, 21, 19, 21, 22, 17, 33, 21, 19, 22, 21, 21, 21, 16, 17,\n",
       "       35, 29, 21, 19, 20, 20, 21, 18, 19, 21, 16, 18, 17], dtype=int64)"
      ]
     },
     "execution_count": 34,
     "metadata": {},
     "output_type": "execute_result"
    }
   ],
   "source": [
    "#查看城市里程\n",
    "df['cty'].values"
   ]
  },
  {
   "cell_type": "code",
   "execution_count": 35,
   "metadata": {},
   "outputs": [
    {
     "data": {
      "text/plain": [
       "suv           62\n",
       "compact       47\n",
       "midsize       41\n",
       "subcompact    35\n",
       "pickup        33\n",
       "minivan       11\n",
       "2seater        5\n",
       "Name: class, dtype: int64"
      ]
     },
     "execution_count": 35,
     "metadata": {},
     "output_type": "execute_result"
    }
   ],
   "source": [
    "#查看汽车类型\n",
    "df['class'].value_counts()"
   ]
  },
  {
   "cell_type": "markdown",
   "metadata": {},
   "source": [
    "汽车种类一共有7种，分别是：SUV、小型车、中型车、迷你车、皮卡、迷你卡车、2座车"
   ]
  },
  {
   "cell_type": "code",
   "execution_count": 36,
   "metadata": {},
   "outputs": [],
   "source": [
    "#以SUV为例，绘制直方密度图\n",
    "\n",
    "#提取SUV类型车的城市里程\n",
    "x1 = df.loc[df['class'] == 'suv','cty'].values"
   ]
  },
  {
   "cell_type": "code",
   "execution_count": 37,
   "metadata": {},
   "outputs": [
    {
     "data": {
      "text/plain": [
       "array([14, 11, 14, 13, 12, 14, 11, 11, 14, 13, 13,  9, 13, 11, 13, 11, 11,\n",
       "       11, 12, 14, 15, 14, 13, 13, 13, 17, 15, 15, 14,  9, 14, 13, 11, 11,\n",
       "       12, 12, 11, 11, 11, 12, 14, 13, 13, 13, 14, 15, 14, 12, 18, 18, 20,\n",
       "       19, 20, 18, 15, 16, 15, 15, 16, 14, 11, 13], dtype=int64)"
      ]
     },
     "execution_count": 37,
     "metadata": {},
     "output_type": "execute_result"
    }
   ],
   "source": [
    "x1"
   ]
  },
  {
   "cell_type": "code",
   "execution_count": 38,
   "metadata": {},
   "outputs": [
    {
     "data": {
      "image/png": "[encoded data removed]",
      "text/plain": [
       "<Figure size 432x288 with 1 Axes>"
      ]
     },
     "metadata": {
      "needs_background": "light"
     },
     "output_type": "display_data"
    }
   ],
   "source": [
    "#绘制图形\n",
    "sns.distplot(x1,label='suv');"
   ]
  },
  {
   "cell_type": "markdown",
   "metadata": {},
   "source": [
    "如果想要把7种类型车的城市里程全部绘制出来的话，可以尝试用循环的方式"
   ]
  },
  {
   "cell_type": "code",
   "execution_count": 39,
   "metadata": {},
   "outputs": [
    {
     "data": {
      "text/plain": [
       "array(['compact', 'compact', 'compact', 'compact', 'compact', 'compact',\n",
       "       'compact', 'compact', 'compact', 'compact', 'compact', 'compact',\n",
       "       'compact', 'compact', 'compact', 'midsize', 'midsize', 'midsize',\n",
       "       'suv', 'suv', 'suv', 'suv', 'suv', '2seater', '2seater', '2seater',\n",
       "       '2seater', '2seater', 'suv', 'suv', 'suv', 'suv', 'midsize',\n",
       "       'midsize', 'midsize', 'midsize', 'midsize', 'minivan', 'minivan',\n",
       "       'minivan', 'minivan', 'minivan', 'minivan', 'minivan', 'minivan',\n",
       "       'minivan', 'minivan', 'minivan', 'pickup', 'pickup', 'pickup',\n",
       "       'pickup', 'pickup', 'pickup', 'pickup', 'pickup', 'pickup', 'suv',\n",
       "       'suv', 'suv', 'suv', 'suv', 'suv', 'suv', 'pickup', 'pickup',\n",
       "       'pickup', 'pickup', 'pickup', 'pickup', 'pickup', 'pickup',\n",
       "       'pickup', 'pickup', 'suv', 'suv', 'suv', 'suv', 'suv', 'suv',\n",
       "       'suv', 'suv', 'suv', 'pickup', 'pickup', 'pickup', 'pickup',\n",
       "       'pickup', 'pickup', 'pickup', 'subcompact', 'subcompact',\n",
       "       'subcompact', 'subcompact', 'subcompact', 'subcompact',\n",
       "       'subcompact', 'subcompact', 'subcompact', 'subcompact',\n",
       "       'subcompact', 'subcompact', 'subcompact', 'subcompact',\n",
       "       'subcompact', 'subcompact', 'subcompact', 'subcompact', 'midsize',\n",
       "       'midsize', 'midsize', 'midsize', 'midsize', 'midsize', 'midsize',\n",
       "       'subcompact', 'subcompact', 'subcompact', 'subcompact',\n",
       "       'subcompact', 'subcompact', 'subcompact', 'suv', 'suv', 'suv',\n",
       "       'suv', 'suv', 'suv', 'suv', 'suv', 'suv', 'suv', 'suv', 'suv',\n",
       "       'suv', 'suv', 'suv', 'suv', 'suv', 'suv', 'suv', 'compact',\n",
       "       'compact', 'midsize', 'midsize', 'midsize', 'midsize', 'midsize',\n",
       "       'midsize', 'midsize', 'suv', 'suv', 'suv', 'suv', 'midsize',\n",
       "       'midsize', 'midsize', 'midsize', 'midsize', 'suv', 'suv', 'suv',\n",
       "       'suv', 'suv', 'suv', 'subcompact', 'subcompact', 'subcompact',\n",
       "       'subcompact', 'compact', 'compact', 'compact', 'compact', 'suv',\n",
       "       'suv', 'suv', 'suv', 'suv', 'suv', 'midsize', 'midsize', 'midsize',\n",
       "       'midsize', 'midsize', 'midsize', 'midsize', 'compact', 'compact',\n",
       "       'compact', 'compact', 'compact', 'compact', 'compact', 'compact',\n",
       "       'compact', 'compact', 'compact', 'compact', 'suv', 'suv', 'pickup',\n",
       "       'pickup', 'pickup', 'pickup', 'pickup', 'pickup', 'pickup',\n",
       "       'compact', 'compact', 'compact', 'compact', 'compact', 'compact',\n",
       "       'compact', 'compact', 'compact', 'compact', 'compact', 'compact',\n",
       "       'compact', 'compact', 'subcompact', 'subcompact', 'subcompact',\n",
       "       'subcompact', 'subcompact', 'subcompact', 'midsize', 'midsize',\n",
       "       'midsize', 'midsize', 'midsize', 'midsize', 'midsize'],\n",
       "      dtype=object)"
      ]
     },
     "execution_count": 39,
     "metadata": {},
     "output_type": "execute_result"
    }
   ],
   "source": [
    "df['class'].values"
   ]
  },
  {
   "cell_type": "code",
   "execution_count": 40,
   "metadata": {},
   "outputs": [
    {
     "data": {
      "text/plain": [
       "{'2seater', 'compact', 'midsize', 'minivan', 'pickup', 'subcompact', 'suv'}"
      ]
     },
     "execution_count": 40,
     "metadata": {},
     "output_type": "execute_result"
    }
   ],
   "source": [
    "set(df['class'].values)"
   ]
  },
  {
   "cell_type": "code",
   "execution_count": 41,
   "metadata": {},
   "outputs": [
    {
     "data": {
      "text/plain": [
       "['compact', 'minivan', 'subcompact', '2seater', 'suv', 'pickup', 'midsize']"
      ]
     },
     "execution_count": 41,
     "metadata": {},
     "output_type": "execute_result"
    }
   ],
   "source": [
    "#将所有类型放到一个列表中\n",
    "clas = list(set(df['class'].values))\n",
    "clas"
   ]
  },
  {
   "cell_type": "code",
   "execution_count": 42,
   "metadata": {},
   "outputs": [
    {
     "data": {
      "image/png": "[encoded data removed]",
      "text/plain": [
       "<Figure size 840x480 with 1 Axes>"
      ]
     },
     "metadata": {
      "needs_background": "light"
     },
     "output_type": "display_data"
    }
   ],
   "source": [
    "#创建画布\n",
    "plt.figure(figsize = (14,8),dpi = 60)\n",
    "\n",
    "#对每一种类型的车进行绘图\n",
    "for i in clas:\n",
    "    sns.distplot(df.loc[df['class'] == i,'cty'].values,label=i\n",
    "                 #,hist=False\n",
    "                )\n",
    "\n",
    "#添加装饰\n",
    "plt.title('城市里程随车类型变化的分布图',fontsize=20)\n",
    "plt.ylim(0,0.65)\n",
    "plt.xlim(5,30)\n",
    "plt.legend(fontsize=15);"
   ]
  },
  {
   "cell_type": "markdown",
   "metadata": {},
   "source": [
    "如果分类特别多的话，各种图形的交错就会更加复杂，那这样的绘图就不是很合适了    \n",
    "而实际应用中，我们也不会将特别多的种类放到一起进行比较    \n",
    "通常来说，会选择几个比较重要的分类来进行对比"
   ]
  },
  {
   "cell_type": "markdown",
   "metadata": {},
   "source": [
    "### **绘制compact/suv/minivan这三种车的城市里程分布**"
   ]
  },
  {
   "cell_type": "code",
   "execution_count": 43,
   "metadata": {},
   "outputs": [
    {
     "data": {
      "image/png": "[encoded data removed]",
      "text/plain": [
       "<Figure size 840x480 with 1 Axes>"
      ]
     },
     "metadata": {
      "needs_background": "light"
     },
     "output_type": "display_data"
    }
   ],
   "source": [
    "#提取出compact/suv/minivan这三种车的城市里程\n",
    "compact = df.loc[df['class'] == 'compact', 'cty'].values\n",
    "suv = df.loc[df['class'] == 'suv', 'cty'].values\n",
    "minivan = df.loc[df['class'] == 'minivan', 'cty'].values\n",
    "\n",
    "#创建画布\n",
    "plt.figure(figsize = (14,8),dpi = 60)\n",
    "\n",
    "#绘制图形\n",
    "sns.distplot(compact,color='b',label='compact', hist_kws={'alpha':.4},kde_kws={'linewidth':3,'alpha':.7})\n",
    "sns.distplot(suv,color='r',label='suv', hist_kws={'alpha':.4},kde_kws={'linewidth':3,'alpha':.7})\n",
    "sns.distplot(minivan,color='g',label='minivan', hist_kws={'alpha':.4},kde_kws={'linewidth':3,'alpha':.7})\n",
    "\n",
    "#装饰图形\n",
    "plt.title('compact/suv/minivan三种车的城市里程分布',fontsize=20)\n",
    "plt.xlabel('城市里程（cty）',fontsize=15)\n",
    "plt.xticks(fontsize=12)\n",
    "plt.yticks(fontsize=12)\n",
    "plt.legend(fontsize=15);"
   ]
  },
  {
   "cell_type": "code",
   "execution_count": 44,
   "metadata": {},
   "outputs": [
    {
     "data": {
      "image/png": "[encoded data removed]",
      "text/plain": [
       "<Figure size 780x480 with 1 Axes>"
      ]
     },
     "metadata": {
      "needs_background": "light"
     },
     "output_type": "display_data"
    }
   ],
   "source": [
    "#源代码\n",
    "\n",
    "# Import Data\n",
    "df = pd.read_csv(\"https://github.com/selva86/datasets/raw/master/mpg_ggplot2.csv\") #导入数据集\n",
    "\n",
    "# Draw Plot\n",
    "plt.figure(figsize=(13,8), dpi= 60) #创建画布\n",
    "sns.distplot(df.loc[df['class'] == 'compact', \"cty\"], color=\"dodgerblue\", label=\"Compact\", hist_kws={'alpha':.7}, kde_kws={'linewidth':3})\n",
    "sns.distplot(df.loc[df['class'] == 'suv', \"cty\"], color=\"orange\", label=\"SUV\", hist_kws={'alpha':.7}, kde_kws={'linewidth':3})\n",
    "sns.distplot(df.loc[df['class'] == 'minivan', \"cty\"], color=\"g\", label=\"minivan\", hist_kws={'alpha':.7}, kde_kws={'linewidth':3})\n",
    "plt.ylim(0, 0.35)#设定Y轴刻度范围\n",
    "\n",
    "# Decoration\n",
    "plt.title('Density Plot of City Mileage by Vehicle Type', fontsize=22) #添加标题\n",
    "plt.legend() #添加图例\n",
    "plt.show() #本地显示图形"
   ]
  },
  {
   "cell_type": "markdown",
   "metadata": {},
   "source": [
    "### 5.图像解读"
   ]
  },
  {
   "cell_type": "code",
   "execution_count": null,
   "metadata": {},
   "outputs": [],
   "source": []
  },
  {
   "cell_type": "code",
   "execution_count": null,
   "metadata": {},
   "outputs": [],
   "source": []
  }
 ],
 "metadata": {
  "kernelspec": {
   "display_name": "Python 3",
   "language": "python",
   "name": "python3"
  },
  "language_info": {
   "codemirror_mode": {
    "name": "ipython",
    "version": 3
   },
   "file_extension": ".py",
   "mimetype": "text/x-python",
   "name": "python",
   "nbconvert_exporter": "python",
   "pygments_lexer": "ipython3",
   "version": "3.7.1"
  }
 },
 "nbformat": 4,
 "nbformat_minor": 2
}
